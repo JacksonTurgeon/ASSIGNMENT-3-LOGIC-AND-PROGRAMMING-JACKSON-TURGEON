{
 "cells": [
  {
   "cell_type": "markdown",
   "metadata": {},
   "source": [
    "# Assignment 3\n",
    "\n",
    "### Total = 25pts"
   ]
  },
  {
   "cell_type": "code",
   "execution_count": null,
   "metadata": {
    "dotnet_interactive": {
     "language": "pwsh"
    },
    "vscode": {
     "languageId": "polyglot-notebook"
    }
   },
   "outputs": [],
   "source": [
    "# create an array to hold your name and student number, \n",
    "# use array destructuring to extract the data into variables \n",
    "# and then print out the values"
   ]
  },
  {
   "cell_type": "markdown",
   "metadata": {},
   "source": [
    "Name: Jane Doe, StudentID: w123456"
   ]
  },
  {
   "cell_type": "markdown",
   "metadata": {},
   "source": [
    "### Part A - Small Bits (15pts)\n",
    "\n",
    "For each item below, determine the appropriate PowerShell code to generate the desired output.\n",
    "\n",
    "---"
   ]
  },
  {
   "cell_type": "code",
   "execution_count": null,
   "metadata": {
    "dotnet_interactive": {
     "language": "pwsh"
    },
    "vscode": {
     "languageId": "polyglot-notebook"
    }
   },
   "outputs": [],
   "source": [
    "# create an array of all five assignments in this course\n",
    "# (e.g. \"Assignment 1\", \"Assignment 2\", etc.)\n",
    "# then loop through the array and print the names of all the \n",
    "# assignments, except the current one.\n",
    "\n",
    "# 3pts\n"
   ]
  },
  {
   "cell_type": "code",
   "execution_count": 1,
   "metadata": {
    "dotnet_interactive": {
     "language": "pwsh"
    },
    "vscode": {
     "languageId": "polyglot-notebook"
    }
   },
   "outputs": [],
   "source": [
    "# create an array of your courses this semester. \n",
    "# make each element another array (i.e. a multidimensional array) \n",
    "# that includes both the course code and the course name\n",
    "# e.g. 'PROG1700' and 'Logic and Programming I'\n",
    "# then print out the first course name in the list and the last course code\n",
    "\n",
    "# 3pts\n"
   ]
  },
  {
   "cell_type": "code",
   "execution_count": null,
   "metadata": {
    "dotnet_interactive": {
     "language": "pwsh"
    },
    "polyglot_notebook": {
     "kernelName": "pwsh"
    },
    "vscode": {
     "languageId": "polyglot-notebook"
    }
   },
   "outputs": [],
   "source": [
    "# create a hash table that contains a list of common \n",
    "# texting slang and their matching words/phrases\n",
    "# e.g. lol = laugh out lout\n",
    "# then use the new hash table to decode the following text\n",
    "\n",
    "# 3 pts\n",
    "\n",
    "# use this text\n",
    "$gibberish = \"idk imho fwiw ur skillz r l33t l8r\"\n",
    "\n",
    "# add your code here\n"
   ]
  },
  {
   "cell_type": "code",
   "execution_count": null,
   "metadata": {
    "dotnet_interactive": {
     "language": "pwsh"
    },
    "vscode": {
     "languageId": "polyglot-notebook"
    }
   },
   "outputs": [],
   "source": [
    "# create a program that takes a lowercase word\n",
    "# then makes every odd letter upper case and every even letter lower case\n",
    "# print out the resulting word\n",
    "# e.g. elite => ElItE\n",
    "\n",
    "# 3 pts\n",
    "\n",
    "# use this word\n",
    "$word = \"hacker\"\n",
    "\n",
    "# add your code here"
   ]
  },
  {
   "cell_type": "code",
   "execution_count": null,
   "metadata": {
    "dotnet_interactive": {
     "language": "pwsh"
    },
    "vscode": {
     "languageId": "polyglot-notebook"
    }
   },
   "outputs": [],
   "source": [
    "# create a program that produces an acronym from a series of words\n",
    "# e.g. the output should be 'NSCC'\n",
    "\n",
    "# 3 pts\n",
    "\n",
    "# use this text\n",
    "$text = \"Nova Scotia Community College\"\n",
    "\n",
    "# add your code here\n"
   ]
  },
  {
   "cell_type": "markdown",
   "metadata": {},
   "source": [
    "---\n",
    "### Part B - Big Bytes! (10pts)\n",
    "\n",
    "The following are more challenging questions. Be patient when tackling these!"
   ]
  },
  {
   "cell_type": "code",
   "execution_count": null,
   "metadata": {
    "dotnet_interactive": {
     "language": "pwsh"
    },
    "vscode": {
     "languageId": "polyglot-notebook"
    }
   },
   "outputs": [],
   "source": [
    "# create a program that converts a date in the format \"mm/dd/yy\"\n",
    "# to a date in the format \"dd-mmm-yyyy\" using the provided string.\n",
    "# e.g. 10/25/19 => 25-Oct-2019\n",
    "# Note: you can assume all dates are >= 2000\n",
    "\n",
    "# 3 pts\n",
    "\n",
    "$date = \"10/25/19\" # sample date to convert\n",
    "\n",
    "# use the months from this string to create the date\n",
    "$months = \"Jan,Feb,Mar,Apr,May,Jun,Jul,Aug,Sep,Oct,Nov,Dec\"\n",
    "\n",
    "# put your code here\n"
   ]
  },
  {
   "cell_type": "code",
   "execution_count": null,
   "metadata": {
    "dotnet_interactive": {
     "language": "pwsh"
    },
    "vscode": {
     "languageId": "polyglot-notebook"
    }
   },
   "outputs": [],
   "source": [
    "# using the following hash table of assignment grades,\n",
    "# programmatically determine the lowest grade in the list.\n",
    "# (there are lots of different ways to do this!)\n",
    "# once you have determined the lowest grade,\n",
    "# create a two-element array containing the name and grade\n",
    "# of that assignment and then display the contents of the array\n",
    "\n",
    "# 4 pts\n",
    "\n",
    "$assignments = @{\n",
    "    'Assignment 1'= 45;\n",
    "    'Assignment 2'= 65;\n",
    "    'Assignment 3'= 12;\n",
    "    'Assignment 4'= 78;\n",
    "    'Assignment 5'= 52\n",
    "}\n",
    "\n",
    "# put your code here\n"
   ]
  },
  {
   "cell_type": "code",
   "execution_count": null,
   "metadata": {
    "dotnet_interactive": {
     "language": "pwsh"
    },
    "vscode": {
     "languageId": "polyglot-notebook"
    }
   },
   "outputs": [],
   "source": [
    "# create a hash table (a.k.a dictionary) that maps each letter of the alphabet to a different letter\n",
    "# e.g. a = x, b = q, c = p, ...\n",
    "# then use that hash table to encrypt the following message\n",
    "# the resulting encrypted message should be all capital letters and contain no\n",
    "# punctuation or spaces.\n",
    "\n",
    "# 3 pts\n",
    "\n",
    "$message = 'This is the great and powerful Oz.'\n",
    "\n",
    "# add your code here"
   ]
  }
 ],
 "metadata": {
  "hide_input": false,
  "kernel_info": {
   "name": "python3"
  },
  "kernelspec": {
   "display_name": ".NET (C#)",
   "language": "C#",
   "name": ".net-csharp"
  },
  "language_info": {
   "file_extension": ".cs",
   "mimetype": "text/x-csharp",
   "name": "C#",
   "pygments_lexer": "csharp",
   "version": "9.0"
  },
  "nteract": {
   "version": "0.15.0"
  }
 },
 "nbformat": 4,
 "nbformat_minor": 4
}
